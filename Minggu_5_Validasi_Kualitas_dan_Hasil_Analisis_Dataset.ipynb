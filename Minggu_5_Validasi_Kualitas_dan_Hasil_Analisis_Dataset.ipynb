{
  "nbformat": 4,
  "nbformat_minor": 0,
  "metadata": {
    "colab": {
      "provenance": [],
      "toc_visible": true
    },
    "kernelspec": {
      "name": "python3",
      "display_name": "Python 3"
    },
    "language_info": {
      "name": "python"
    }
  },
  "cells": [
    {
      "cell_type": "markdown",
      "source": [
        "# Mengatasi Missing Values"
      ],
      "metadata": {
        "id": "pcO4E51cdie-"
      }
    },
    {
      "cell_type": "code",
      "execution_count": null,
      "metadata": {
        "colab": {
          "base_uri": "https://localhost:8080/",
          "height": 348
        },
        "id": "7qrROBE5QXKe",
        "outputId": "e4d4404f-134c-48ca-87f0-1705c465b1f6"
      },
      "outputs": [
        {
          "output_type": "stream",
          "name": "stdout",
          "text": [
            "Data Awal:\n",
            "      Name   Age         City\n",
            "0    Alice  25.0     New York\n",
            "1      Bob  30.0  Los Angeles\n",
            "2  Charlie  35.0      Chicago\n",
            "3    Alice  25.0     New York\n",
            "4      Eve   NaN        Miami\n",
            "5      NaN  50.0  Los Angeles\n",
            "\n",
            "Data Setelah Cleaning:\n"
          ]
        },
        {
          "output_type": "execute_result",
          "data": {
            "text/plain": [
              "      Name   Age         City\n",
              "0    Alice  25.0     New York\n",
              "1      Bob  30.0  Los Angeles\n",
              "2  Charlie  35.0      Chicago\n",
              "4      Eve  32.5        Miami"
            ],
            "text/html": [
              "\n",
              "  <div id=\"df-cf3f20b5-ba2a-436c-8bac-9fcca36d436d\" class=\"colab-df-container\">\n",
              "    <div>\n",
              "<style scoped>\n",
              "    .dataframe tbody tr th:only-of-type {\n",
              "        vertical-align: middle;\n",
              "    }\n",
              "\n",
              "    .dataframe tbody tr th {\n",
              "        vertical-align: top;\n",
              "    }\n",
              "\n",
              "    .dataframe thead th {\n",
              "        text-align: right;\n",
              "    }\n",
              "</style>\n",
              "<table border=\"1\" class=\"dataframe\">\n",
              "  <thead>\n",
              "    <tr style=\"text-align: right;\">\n",
              "      <th></th>\n",
              "      <th>Name</th>\n",
              "      <th>Age</th>\n",
              "      <th>City</th>\n",
              "    </tr>\n",
              "  </thead>\n",
              "  <tbody>\n",
              "    <tr>\n",
              "      <th>0</th>\n",
              "      <td>Alice</td>\n",
              "      <td>25.0</td>\n",
              "      <td>New York</td>\n",
              "    </tr>\n",
              "    <tr>\n",
              "      <th>1</th>\n",
              "      <td>Bob</td>\n",
              "      <td>30.0</td>\n",
              "      <td>Los Angeles</td>\n",
              "    </tr>\n",
              "    <tr>\n",
              "      <th>2</th>\n",
              "      <td>Charlie</td>\n",
              "      <td>35.0</td>\n",
              "      <td>Chicago</td>\n",
              "    </tr>\n",
              "    <tr>\n",
              "      <th>4</th>\n",
              "      <td>Eve</td>\n",
              "      <td>32.5</td>\n",
              "      <td>Miami</td>\n",
              "    </tr>\n",
              "  </tbody>\n",
              "</table>\n",
              "</div>\n",
              "    <div class=\"colab-df-buttons\">\n",
              "\n",
              "  <div class=\"colab-df-container\">\n",
              "    <button class=\"colab-df-convert\" onclick=\"convertToInteractive('df-cf3f20b5-ba2a-436c-8bac-9fcca36d436d')\"\n",
              "            title=\"Convert this dataframe to an interactive table.\"\n",
              "            style=\"display:none;\">\n",
              "\n",
              "  <svg xmlns=\"http://www.w3.org/2000/svg\" height=\"24px\" viewBox=\"0 -960 960 960\">\n",
              "    <path d=\"M120-120v-720h720v720H120Zm60-500h600v-160H180v160Zm220 220h160v-160H400v160Zm0 220h160v-160H400v160ZM180-400h160v-160H180v160Zm440 0h160v-160H620v160ZM180-180h160v-160H180v160Zm440 0h160v-160H620v160Z\"/>\n",
              "  </svg>\n",
              "    </button>\n",
              "\n",
              "  <style>\n",
              "    .colab-df-container {\n",
              "      display:flex;\n",
              "      gap: 12px;\n",
              "    }\n",
              "\n",
              "    .colab-df-convert {\n",
              "      background-color: #E8F0FE;\n",
              "      border: none;\n",
              "      border-radius: 50%;\n",
              "      cursor: pointer;\n",
              "      display: none;\n",
              "      fill: #1967D2;\n",
              "      height: 32px;\n",
              "      padding: 0 0 0 0;\n",
              "      width: 32px;\n",
              "    }\n",
              "\n",
              "    .colab-df-convert:hover {\n",
              "      background-color: #E2EBFA;\n",
              "      box-shadow: 0px 1px 2px rgba(60, 64, 67, 0.3), 0px 1px 3px 1px rgba(60, 64, 67, 0.15);\n",
              "      fill: #174EA6;\n",
              "    }\n",
              "\n",
              "    .colab-df-buttons div {\n",
              "      margin-bottom: 4px;\n",
              "    }\n",
              "\n",
              "    [theme=dark] .colab-df-convert {\n",
              "      background-color: #3B4455;\n",
              "      fill: #D2E3FC;\n",
              "    }\n",
              "\n",
              "    [theme=dark] .colab-df-convert:hover {\n",
              "      background-color: #434B5C;\n",
              "      box-shadow: 0px 1px 3px 1px rgba(0, 0, 0, 0.15);\n",
              "      filter: drop-shadow(0px 1px 2px rgba(0, 0, 0, 0.3));\n",
              "      fill: #FFFFFF;\n",
              "    }\n",
              "  </style>\n",
              "\n",
              "    <script>\n",
              "      const buttonEl =\n",
              "        document.querySelector('#df-cf3f20b5-ba2a-436c-8bac-9fcca36d436d button.colab-df-convert');\n",
              "      buttonEl.style.display =\n",
              "        google.colab.kernel.accessAllowed ? 'block' : 'none';\n",
              "\n",
              "      async function convertToInteractive(key) {\n",
              "        const element = document.querySelector('#df-cf3f20b5-ba2a-436c-8bac-9fcca36d436d');\n",
              "        const dataTable =\n",
              "          await google.colab.kernel.invokeFunction('convertToInteractive',\n",
              "                                                    [key], {});\n",
              "        if (!dataTable) return;\n",
              "\n",
              "        const docLinkHtml = 'Like what you see? Visit the ' +\n",
              "          '<a target=\"_blank\" href=https://colab.research.google.com/notebooks/data_table.ipynb>data table notebook</a>'\n",
              "          + ' to learn more about interactive tables.';\n",
              "        element.innerHTML = '';\n",
              "        dataTable['output_type'] = 'display_data';\n",
              "        await google.colab.output.renderOutput(dataTable, element);\n",
              "        const docLink = document.createElement('div');\n",
              "        docLink.innerHTML = docLinkHtml;\n",
              "        element.appendChild(docLink);\n",
              "      }\n",
              "    </script>\n",
              "  </div>\n",
              "\n",
              "\n",
              "<div id=\"df-b5782af0-deb6-42b4-ad4a-4a968b2162d7\">\n",
              "  <button class=\"colab-df-quickchart\" onclick=\"quickchart('df-b5782af0-deb6-42b4-ad4a-4a968b2162d7')\"\n",
              "            title=\"Suggest charts\"\n",
              "            style=\"display:none;\">\n",
              "\n",
              "<svg xmlns=\"http://www.w3.org/2000/svg\" height=\"24px\"viewBox=\"0 0 24 24\"\n",
              "     width=\"24px\">\n",
              "    <g>\n",
              "        <path d=\"M19 3H5c-1.1 0-2 .9-2 2v14c0 1.1.9 2 2 2h14c1.1 0 2-.9 2-2V5c0-1.1-.9-2-2-2zM9 17H7v-7h2v7zm4 0h-2V7h2v10zm4 0h-2v-4h2v4z\"/>\n",
              "    </g>\n",
              "</svg>\n",
              "  </button>\n",
              "\n",
              "<style>\n",
              "  .colab-df-quickchart {\n",
              "      --bg-color: #E8F0FE;\n",
              "      --fill-color: #1967D2;\n",
              "      --hover-bg-color: #E2EBFA;\n",
              "      --hover-fill-color: #174EA6;\n",
              "      --disabled-fill-color: #AAA;\n",
              "      --disabled-bg-color: #DDD;\n",
              "  }\n",
              "\n",
              "  [theme=dark] .colab-df-quickchart {\n",
              "      --bg-color: #3B4455;\n",
              "      --fill-color: #D2E3FC;\n",
              "      --hover-bg-color: #434B5C;\n",
              "      --hover-fill-color: #FFFFFF;\n",
              "      --disabled-bg-color: #3B4455;\n",
              "      --disabled-fill-color: #666;\n",
              "  }\n",
              "\n",
              "  .colab-df-quickchart {\n",
              "    background-color: var(--bg-color);\n",
              "    border: none;\n",
              "    border-radius: 50%;\n",
              "    cursor: pointer;\n",
              "    display: none;\n",
              "    fill: var(--fill-color);\n",
              "    height: 32px;\n",
              "    padding: 0;\n",
              "    width: 32px;\n",
              "  }\n",
              "\n",
              "  .colab-df-quickchart:hover {\n",
              "    background-color: var(--hover-bg-color);\n",
              "    box-shadow: 0 1px 2px rgba(60, 64, 67, 0.3), 0 1px 3px 1px rgba(60, 64, 67, 0.15);\n",
              "    fill: var(--button-hover-fill-color);\n",
              "  }\n",
              "\n",
              "  .colab-df-quickchart-complete:disabled,\n",
              "  .colab-df-quickchart-complete:disabled:hover {\n",
              "    background-color: var(--disabled-bg-color);\n",
              "    fill: var(--disabled-fill-color);\n",
              "    box-shadow: none;\n",
              "  }\n",
              "\n",
              "  .colab-df-spinner {\n",
              "    border: 2px solid var(--fill-color);\n",
              "    border-color: transparent;\n",
              "    border-bottom-color: var(--fill-color);\n",
              "    animation:\n",
              "      spin 1s steps(1) infinite;\n",
              "  }\n",
              "\n",
              "  @keyframes spin {\n",
              "    0% {\n",
              "      border-color: transparent;\n",
              "      border-bottom-color: var(--fill-color);\n",
              "      border-left-color: var(--fill-color);\n",
              "    }\n",
              "    20% {\n",
              "      border-color: transparent;\n",
              "      border-left-color: var(--fill-color);\n",
              "      border-top-color: var(--fill-color);\n",
              "    }\n",
              "    30% {\n",
              "      border-color: transparent;\n",
              "      border-left-color: var(--fill-color);\n",
              "      border-top-color: var(--fill-color);\n",
              "      border-right-color: var(--fill-color);\n",
              "    }\n",
              "    40% {\n",
              "      border-color: transparent;\n",
              "      border-right-color: var(--fill-color);\n",
              "      border-top-color: var(--fill-color);\n",
              "    }\n",
              "    60% {\n",
              "      border-color: transparent;\n",
              "      border-right-color: var(--fill-color);\n",
              "    }\n",
              "    80% {\n",
              "      border-color: transparent;\n",
              "      border-right-color: var(--fill-color);\n",
              "      border-bottom-color: var(--fill-color);\n",
              "    }\n",
              "    90% {\n",
              "      border-color: transparent;\n",
              "      border-bottom-color: var(--fill-color);\n",
              "    }\n",
              "  }\n",
              "</style>\n",
              "\n",
              "  <script>\n",
              "    async function quickchart(key) {\n",
              "      const quickchartButtonEl =\n",
              "        document.querySelector('#' + key + ' button');\n",
              "      quickchartButtonEl.disabled = true;  // To prevent multiple clicks.\n",
              "      quickchartButtonEl.classList.add('colab-df-spinner');\n",
              "      try {\n",
              "        const charts = await google.colab.kernel.invokeFunction(\n",
              "            'suggestCharts', [key], {});\n",
              "      } catch (error) {\n",
              "        console.error('Error during call to suggestCharts:', error);\n",
              "      }\n",
              "      quickchartButtonEl.classList.remove('colab-df-spinner');\n",
              "      quickchartButtonEl.classList.add('colab-df-quickchart-complete');\n",
              "    }\n",
              "    (() => {\n",
              "      let quickchartButtonEl =\n",
              "        document.querySelector('#df-b5782af0-deb6-42b4-ad4a-4a968b2162d7 button');\n",
              "      quickchartButtonEl.style.display =\n",
              "        google.colab.kernel.accessAllowed ? 'block' : 'none';\n",
              "    })();\n",
              "  </script>\n",
              "</div>\n",
              "\n",
              "  <div id=\"id_0a6ead4b-7cb3-4da6-a567-2de267d78832\">\n",
              "    <style>\n",
              "      .colab-df-generate {\n",
              "        background-color: #E8F0FE;\n",
              "        border: none;\n",
              "        border-radius: 50%;\n",
              "        cursor: pointer;\n",
              "        display: none;\n",
              "        fill: #1967D2;\n",
              "        height: 32px;\n",
              "        padding: 0 0 0 0;\n",
              "        width: 32px;\n",
              "      }\n",
              "\n",
              "      .colab-df-generate:hover {\n",
              "        background-color: #E2EBFA;\n",
              "        box-shadow: 0px 1px 2px rgba(60, 64, 67, 0.3), 0px 1px 3px 1px rgba(60, 64, 67, 0.15);\n",
              "        fill: #174EA6;\n",
              "      }\n",
              "\n",
              "      [theme=dark] .colab-df-generate {\n",
              "        background-color: #3B4455;\n",
              "        fill: #D2E3FC;\n",
              "      }\n",
              "\n",
              "      [theme=dark] .colab-df-generate:hover {\n",
              "        background-color: #434B5C;\n",
              "        box-shadow: 0px 1px 3px 1px rgba(0, 0, 0, 0.15);\n",
              "        filter: drop-shadow(0px 1px 2px rgba(0, 0, 0, 0.3));\n",
              "        fill: #FFFFFF;\n",
              "      }\n",
              "    </style>\n",
              "    <button class=\"colab-df-generate\" onclick=\"generateWithVariable('df')\"\n",
              "            title=\"Generate code using this dataframe.\"\n",
              "            style=\"display:none;\">\n",
              "\n",
              "  <svg xmlns=\"http://www.w3.org/2000/svg\" height=\"24px\"viewBox=\"0 0 24 24\"\n",
              "       width=\"24px\">\n",
              "    <path d=\"M7,19H8.4L18.45,9,17,7.55,7,17.6ZM5,21V16.75L18.45,3.32a2,2,0,0,1,2.83,0l1.4,1.43a1.91,1.91,0,0,1,.58,1.4,1.91,1.91,0,0,1-.58,1.4L9.25,21ZM18.45,9,17,7.55Zm-12,3A5.31,5.31,0,0,0,4.9,8.1,5.31,5.31,0,0,0,1,6.5,5.31,5.31,0,0,0,4.9,4.9,5.31,5.31,0,0,0,6.5,1,5.31,5.31,0,0,0,8.1,4.9,5.31,5.31,0,0,0,12,6.5,5.46,5.46,0,0,0,6.5,12Z\"/>\n",
              "  </svg>\n",
              "    </button>\n",
              "    <script>\n",
              "      (() => {\n",
              "      const buttonEl =\n",
              "        document.querySelector('#id_0a6ead4b-7cb3-4da6-a567-2de267d78832 button.colab-df-generate');\n",
              "      buttonEl.style.display =\n",
              "        google.colab.kernel.accessAllowed ? 'block' : 'none';\n",
              "\n",
              "      buttonEl.onclick = () => {\n",
              "        google.colab.notebook.generateWithVariable('df');\n",
              "      }\n",
              "      })();\n",
              "    </script>\n",
              "  </div>\n",
              "\n",
              "    </div>\n",
              "  </div>\n"
            ],
            "application/vnd.google.colaboratory.intrinsic+json": {
              "type": "dataframe",
              "variable_name": "df",
              "summary": "{\n  \"name\": \"df\",\n  \"rows\": 4,\n  \"fields\": [\n    {\n      \"column\": \"Name\",\n      \"properties\": {\n        \"dtype\": \"string\",\n        \"num_unique_values\": 4,\n        \"samples\": [\n          \"Bob\",\n          \"Eve\",\n          \"Alice\"\n        ],\n        \"semantic_type\": \"\",\n        \"description\": \"\"\n      }\n    },\n    {\n      \"column\": \"Age\",\n      \"properties\": {\n        \"dtype\": \"number\",\n        \"std\": 4.269562819149833,\n        \"min\": 25.0,\n        \"max\": 35.0,\n        \"num_unique_values\": 4,\n        \"samples\": [\n          30.0,\n          32.5,\n          25.0\n        ],\n        \"semantic_type\": \"\",\n        \"description\": \"\"\n      }\n    },\n    {\n      \"column\": \"City\",\n      \"properties\": {\n        \"dtype\": \"string\",\n        \"num_unique_values\": 4,\n        \"samples\": [\n          \"Los Angeles\",\n          \"Miami\",\n          \"New York\"\n        ],\n        \"semantic_type\": \"\",\n        \"description\": \"\"\n      }\n    }\n  ]\n}"
            }
          },
          "metadata": {},
          "execution_count": 2
        }
      ],
      "source": [
        "# Contoh Data Cleaning dengan Python\n",
        "import pandas as pd\n",
        "import numpy as np\n",
        "# Membuat dataframe contoh\n",
        "data = {\n",
        "'Name': ['Alice', 'Bob', 'Charlie', 'Alice', 'Eve', np.nan],\n",
        "'Age': [25, 30, 35, 25, np.nan, 50],\n",
        "'City': ['New York', 'Los Angeles', 'Chicago', 'New York', 'Miami', 'Los Angeles']\n",
        "}\n",
        "df = pd.DataFrame(data)\n",
        "# Menampilkan data awal\n",
        "print(\"Data Awal:\")\n",
        "print(df)\n",
        "# Menghapus duplikat\n",
        "df = df.drop_duplicates()\n",
        "# Menangani missing values dengan mengisi nilai median untuk kolom numerik\n",
        "df['Age'] = df['Age'].fillna(df['Age'].median())\n",
        "# Menghapus baris yang mengandung missing values di kolom 'Name'\n",
        "df = df.dropna(subset=['Name'])\n",
        "# Menampilkan data setelah cleaning\n",
        "print(\"\\nData Setelah Cleaning:\")\n",
        "df"
      ]
    },
    {
      "cell_type": "code",
      "source": [
        "import pandas as pd\n",
        "\n",
        "df = pd.read_csv('data.csv')\n",
        "print(df.isnull().sum())\n"
      ],
      "metadata": {
        "colab": {
          "base_uri": "https://localhost:8080/"
        },
        "id": "ks5LbNYZW7cN",
        "outputId": "ad3927af-676f-48c4-ed34-349a1cd2f6eb"
      },
      "execution_count": 16,
      "outputs": [
        {
          "output_type": "stream",
          "name": "stdout",
          "text": [
            "Name    1\n",
            "Age     1\n",
            "City    0\n",
            "dtype: int64\n"
          ]
        }
      ]
    },
    {
      "cell_type": "code",
      "source": [
        "# Mengisi Missing Values\n",
        "df['Age'].fillna(df['Age'].mean())\n",
        "# Mean\n",
        "df['Age'].fillna(df['Age'].median(), inplace=True)\n",
        "#Median\n",
        "df['Age'].fillna(df['Age'].mode()[0], inplace=True)\n",
        "# Mode"
      ],
      "metadata": {
        "colab": {
          "base_uri": "https://localhost:8080/"
        },
        "id": "NFn_tqzWci1f",
        "outputId": "ceb19c1b-99cc-4fa9-df20-e6c44123e58d"
      },
      "execution_count": 18,
      "outputs": [
        {
          "output_type": "stream",
          "name": "stderr",
          "text": [
            "<ipython-input-18-d5d88dc765a7>:4: FutureWarning: A value is trying to be set on a copy of a DataFrame or Series through chained assignment using an inplace method.\n",
            "The behavior will change in pandas 3.0. This inplace method will never work because the intermediate object on which we are setting values always behaves as a copy.\n",
            "\n",
            "For example, when doing 'df[col].method(value, inplace=True)', try using 'df.method({col: value}, inplace=True)' or df[col] = df[col].method(value) instead, to perform the operation inplace on the original object.\n",
            "\n",
            "\n",
            "  df['Age'].fillna(df['Age'].median(), inplace=True)\n",
            "<ipython-input-18-d5d88dc765a7>:6: FutureWarning: A value is trying to be set on a copy of a DataFrame or Series through chained assignment using an inplace method.\n",
            "The behavior will change in pandas 3.0. This inplace method will never work because the intermediate object on which we are setting values always behaves as a copy.\n",
            "\n",
            "For example, when doing 'df[col].method(value, inplace=True)', try using 'df.method({col: value}, inplace=True)' or df[col] = df[col].method(value) instead, to perform the operation inplace on the original object.\n",
            "\n",
            "\n",
            "  df['Age'].fillna(df['Age'].mode()[0], inplace=True)\n"
          ]
        }
      ]
    },
    {
      "cell_type": "code",
      "source": [
        "# Forward/Backward Fill\n",
        "df['Age'].fillna(method='ffill', inplace=True)  # Forward fill\n",
        "df['Age'].fillna(method='bfill', inplace=True)  # Backward fill"
      ],
      "metadata": {
        "colab": {
          "base_uri": "https://localhost:8080/"
        },
        "id": "zpfP5sGqcYwB",
        "outputId": "fde3698b-a5dd-4b2e-b5dc-ea5489fe848c"
      },
      "execution_count": 19,
      "outputs": [
        {
          "output_type": "stream",
          "name": "stderr",
          "text": [
            "<ipython-input-19-00725efaf942>:2: FutureWarning: A value is trying to be set on a copy of a DataFrame or Series through chained assignment using an inplace method.\n",
            "The behavior will change in pandas 3.0. This inplace method will never work because the intermediate object on which we are setting values always behaves as a copy.\n",
            "\n",
            "For example, when doing 'df[col].method(value, inplace=True)', try using 'df.method({col: value}, inplace=True)' or df[col] = df[col].method(value) instead, to perform the operation inplace on the original object.\n",
            "\n",
            "\n",
            "  df['Age'].fillna(method='ffill', inplace=True)  # Forward fill\n",
            "<ipython-input-19-00725efaf942>:2: FutureWarning: Series.fillna with 'method' is deprecated and will raise in a future version. Use obj.ffill() or obj.bfill() instead.\n",
            "  df['Age'].fillna(method='ffill', inplace=True)  # Forward fill\n",
            "<ipython-input-19-00725efaf942>:3: FutureWarning: A value is trying to be set on a copy of a DataFrame or Series through chained assignment using an inplace method.\n",
            "The behavior will change in pandas 3.0. This inplace method will never work because the intermediate object on which we are setting values always behaves as a copy.\n",
            "\n",
            "For example, when doing 'df[col].method(value, inplace=True)', try using 'df.method({col: value}, inplace=True)' or df[col] = df[col].method(value) instead, to perform the operation inplace on the original object.\n",
            "\n",
            "\n",
            "  df['Age'].fillna(method='bfill', inplace=True)  # Backward fill\n",
            "<ipython-input-19-00725efaf942>:3: FutureWarning: Series.fillna with 'method' is deprecated and will raise in a future version. Use obj.ffill() or obj.bfill() instead.\n",
            "  df['Age'].fillna(method='bfill', inplace=True)  # Backward fill\n"
          ]
        }
      ]
    },
    {
      "cell_type": "code",
      "source": [
        "df['Age'].fillna(method='bfill', inplace=True)  # Backward fill"
      ],
      "metadata": {
        "colab": {
          "base_uri": "https://localhost:8080/"
        },
        "id": "-X8KHw_YdA6F",
        "outputId": "e12643ac-08c6-4af0-ab08-a598260b220b"
      },
      "execution_count": 20,
      "outputs": [
        {
          "output_type": "stream",
          "name": "stderr",
          "text": [
            "<ipython-input-20-75152930b47e>:1: FutureWarning: A value is trying to be set on a copy of a DataFrame or Series through chained assignment using an inplace method.\n",
            "The behavior will change in pandas 3.0. This inplace method will never work because the intermediate object on which we are setting values always behaves as a copy.\n",
            "\n",
            "For example, when doing 'df[col].method(value, inplace=True)', try using 'df.method({col: value}, inplace=True)' or df[col] = df[col].method(value) instead, to perform the operation inplace on the original object.\n",
            "\n",
            "\n",
            "  df['Age'].fillna(method='bfill', inplace=True)  # Backward fill\n",
            "<ipython-input-20-75152930b47e>:1: FutureWarning: Series.fillna with 'method' is deprecated and will raise in a future version. Use obj.ffill() or obj.bfill() instead.\n",
            "  df['Age'].fillna(method='bfill', inplace=True)  # Backward fill\n"
          ]
        }
      ]
    },
    {
      "cell_type": "code",
      "source": [
        "# Dropping Missing Values\n",
        "df.dropna(subset=['Age'], inplace=True)"
      ],
      "metadata": {
        "id": "I6paSqn0dE7l"
      },
      "execution_count": 23,
      "outputs": []
    },
    {
      "cell_type": "markdown",
      "source": [
        "# Menghapus Duplikat"
      ],
      "metadata": {
        "id": "_M0sdQIBdVvL"
      }
    },
    {
      "cell_type": "code",
      "source": [
        "# Identifikasi duplikat\n",
        "print(df.duplicated().sum())\n",
        "# Menghapus duplikat\n",
        "df.drop_duplicates(inplace=True)"
      ],
      "metadata": {
        "colab": {
          "base_uri": "https://localhost:8080/"
        },
        "id": "TzHY8GdHdLPw",
        "outputId": "881e83a9-ce17-448c-8a82-e06a49d74fce"
      },
      "execution_count": 24,
      "outputs": [
        {
          "output_type": "stream",
          "name": "stdout",
          "text": [
            "1\n"
          ]
        }
      ]
    },
    {
      "cell_type": "markdown",
      "source": [
        "# Menangani Outliers"
      ],
      "metadata": {
        "id": "9vabqC4tdsi1"
      }
    },
    {
      "cell_type": "markdown",
      "source": [
        "Outliers adalah data yang menyimpang secara signifikan dari sebagian besar data\n",
        "dalam dataset. Mereka dapat berada jauh dari nilai rata-rata atau median dan mungkin\n",
        "menunjukkan adanya variasi atau kesalahan dalam data. Outliers dapat disebabkan\n",
        "oleh berbagai faktor, seperti kesalahan pengukuran, kesalahan pencatatan, atau\n",
        "kejadian yang jarang terjadi tetapi sah. Mengapa Outliers Penting?\n",
        "1. Pengaruh pada Statistik Deskriptif: Outliers dapat secara signifikan\n",
        "mempengaruhi statistik seperti mean (rata-rata) dan standard deviation\n",
        "(simpangan baku). Mereka dapat menyebabkan hasil statistik yang\n",
        "menyesatkan.\n",
        "2.   \n",
        "Pengaruh pada Model Machine Learning: Dalam machine learning, outliers\n",
        "dapat mempengaruhi kinerja model. Misalnya, model regresi linier dapat\n",
        "condong atau menjadi tidak akurat jika terdapat outliers.\n",
        "\n",
        "3. Indikasi Masalah atau Informasi Berharga: Outliers kadang-kadang dapat\n",
        "menunjukkan kesalahan dalam data, tetapi mereka juga bisa memberikan\n",
        "wawasan berharga tentang fenomena langka atau penting.\n",
        "\n",
        "Penanganan Outliers\n",
        "\n",
        "1.   Menghapus Outliers: Jika outliers disebabkan oleh kesalahan pengukuran atau\n",
        "data yang tidak relevan, mereka dapat dihapus dari dataset.\n",
        "\n",
        "2. Transformasi Data: Menggunakan teknik seperti log transformation untuk\n",
        "mengurangi dampak outliers.\n",
        "\n",
        "3.   Model yang Tahan Outliers: Menggunakan model machine learning yang lebih\n",
        "tahan terhadap outliers, seperti tree-based methods."
      ],
      "metadata": {
        "id": "2yf188Y-d4GC"
      }
    },
    {
      "cell_type": "code",
      "source": [
        "# Langkah 1: Membuat DataFrame\n",
        "import pandas as pd\n",
        "import numpy as np\n",
        "\n",
        "data = {\n",
        "'Name': ['Alice', 'Bob', 'Charlie', 'Alice', 'Eve', np.nan],\n",
        "'Age': [25, 30, 35, 25, np.nan, 50],\n",
        "'City': ['New York', 'Los Angeles', 'Chicago', 'New York', 'Miami', 'Los Angeles']\n",
        "}\n",
        "df = pd.DataFrame(data)\n",
        "\n",
        "# Langkah 2: Identifikasi Outliers\n",
        "# Outliers dapat diidentifikasi menggunakan berbagai metode, salah satu yang umum adalah menggunakan Z-score atau IQR (Interquartile Range).\n",
        "# Di sini, kita akan menggunakan IQR untuk mendeteksi outliers.\n",
        "# Menghitung IQR\n",
        "Q1 = df['Age'].quantile(0.25)\n",
        "Q3 = df['Age'].quantile(0.75)\n",
        "IQR = Q3 - Q1\n",
        "\n",
        "# Menentukan batas bawah dan atas untuk outliers\n",
        "lower_bound = Q1 - 1.5 * IQR\n",
        "upper_bound = Q3 + 1.5 * IQR\n",
        "\n",
        "# Menandai outliers\n",
        "outliers = df[(df['Age'] < lower_bound) | (df['Age'] > upper_bound)]\n",
        "print(\"Outliers:\\n\", outliers)\n",
        "\n",
        "# Langkah 3: Menangani Outliers\n",
        "# # Menghapus outliers\n",
        "df_no_outliers = df[(df['Age'] >= lower_bound) & (df['Age'] <= upper_bound)]\n",
        "\n",
        "# Mengganti outliers dengan nilai median\n",
        "median_age = df['Age'].median()\n",
        "df['Age'] = np.where((df['Age'] < lower_bound) | (df['Age'] > upper_bound),\n",
        "median_age, df['Age'])\n",
        "\n",
        "# Mengisi missing values dengan median\n",
        "df['Age'].fillna(df['Age'].median(), inplace=True)\n",
        "df['Name'].fillna('Unknown', inplace=True)"
      ],
      "metadata": {
        "colab": {
          "base_uri": "https://localhost:8080/"
        },
        "id": "0wp9FxMUeLNn",
        "outputId": "a5b3e429-8af9-48a5-f7d7-a8cc9de3834b"
      },
      "execution_count": 27,
      "outputs": [
        {
          "output_type": "stream",
          "name": "stdout",
          "text": [
            "Outliers:\n",
            " Empty DataFrame\n",
            "Columns: [Name, Age, City]\n",
            "Index: []\n"
          ]
        },
        {
          "output_type": "stream",
          "name": "stderr",
          "text": [
            "<ipython-input-27-17b81f1b4d36>:38: FutureWarning: A value is trying to be set on a copy of a DataFrame or Series through chained assignment using an inplace method.\n",
            "The behavior will change in pandas 3.0. This inplace method will never work because the intermediate object on which we are setting values always behaves as a copy.\n",
            "\n",
            "For example, when doing 'df[col].method(value, inplace=True)', try using 'df.method({col: value}, inplace=True)' or df[col] = df[col].method(value) instead, to perform the operation inplace on the original object.\n",
            "\n",
            "\n",
            "  df['Age'].fillna(df['Age'].median(), inplace=True)\n",
            "<ipython-input-27-17b81f1b4d36>:39: FutureWarning: A value is trying to be set on a copy of a DataFrame or Series through chained assignment using an inplace method.\n",
            "The behavior will change in pandas 3.0. This inplace method will never work because the intermediate object on which we are setting values always behaves as a copy.\n",
            "\n",
            "For example, when doing 'df[col].method(value, inplace=True)', try using 'df.method({col: value}, inplace=True)' or df[col] = df[col].method(value) instead, to perform the operation inplace on the original object.\n",
            "\n",
            "\n",
            "  df['Name'].fillna('Unknown', inplace=True)\n"
          ]
        }
      ]
    },
    {
      "cell_type": "markdown",
      "source": [
        "# Mengubah Data Kategorikal ke Numerik"
      ],
      "metadata": {
        "id": "UswRx2prerdn"
      }
    },
    {
      "cell_type": "markdown",
      "source": [
        "Mengubah data kategorikal ke numerik dalam analisis data dan pemodelan\n",
        "machine learning sangat penting karena sebagian besar algoritma machine learning\n",
        "membutuhkan input numerik untuk melakukan perhitungan. Ada beberapa alasan\n",
        "utama mengapa transformasi ini diperlukan:\n",
        "\n",
        "1.   Kompatibilitas dengan Algoritma: Banyak algoritma machine learning, seperti\n",
        "regresi linier, regresi logistik, dan algoritma berbasis jarak seperti KNN, tidak\n",
        "dapat beroperasi dengan data kategorikal. Mereka membutuhkan data\n",
        "numerik untuk menghitung jarak, koefisien, dan parameter lainnya.\n",
        "\n",
        "2. Kinerja  dan  Akurasi  Model:  Mengubah  data  kategorikal  menjadi  format\n",
        "numerik memungkinkan model untuk lebih efektif mengenali pola dalam data.\n",
        "Representasi numerik dapat membantu dalam memanfaatkan informasi yang\n",
        "terkandung dalam variabel kategorikal, yang dapat meningkatkan kinerja dan\n",
        "akurasi model.\n",
        "\n",
        "3. Skalabilitas dan Efisiensi: Algoritma yang bekerja dengan data numerik sering\n",
        "kali lebih efisien dan skalabel dibandingkan dengan yang harus bekerja dengan\n",
        "data kategorikal. Data numerik memungkinkan operasi matematika dan\n",
        "statistik yang lebih cepat dan lebih mudah diterapkan.\n",
        "\n",
        "4. Persyaratan Prapemrosesan: Beberapa langkah prapemrosesan data, seperti\n",
        "normalisasi atau standardisasi, memerlukan data dalam bentuk numerik. Ini\n",
        "penting untuk memastikan bahwa semua fitur dalam dataset berada pada skala\n",
        "yang sama, yang bisa mempengaruhi hasil dari algoritma ML."
      ],
      "metadata": {
        "id": "uGA037X4e0y7"
      }
    },
    {
      "cell_type": "code",
      "source": [
        "# Contoh: misalnya, kita memiliki dataset dengan kolom \"City\" yang berisi data kategorikal:\n",
        "import pandas as pd\n",
        "data = {'City': ['New York', 'Los Angeles', 'Chicago', 'New York', 'Miami']}\n",
        "df = pd.DataFrame(data)\n",
        "# One-Hot Encoding\n",
        "df_one_hot = pd.get_dummies(df, columns=['City'])\n",
        "print(df_one_hot)"
      ],
      "metadata": {
        "colab": {
          "base_uri": "https://localhost:8080/"
        },
        "id": "5cNG6Tv8gLDD",
        "outputId": "d38190d3-6e92-450e-c010-f19fe42842ab"
      },
      "execution_count": 29,
      "outputs": [
        {
          "output_type": "stream",
          "name": "stdout",
          "text": [
            "   City_Chicago  City_Los Angeles  City_Miami  City_New York\n",
            "0         False             False       False           True\n",
            "1         False              True       False          False\n",
            "2          True             False       False          False\n",
            "3         False             False       False           True\n",
            "4         False             False        True          False\n"
          ]
        }
      ]
    },
    {
      "cell_type": "markdown",
      "source": [
        "# Menangani Data Tidak Valid"
      ],
      "metadata": {
        "id": "t13dgDBagP_o"
      }
    },
    {
      "cell_type": "markdown",
      "source": [
        "Menangani data tidak valid adalah proses penting untuk memastikan integritas\n",
        "dan kualitas dataset. Data tidak valid dapat mengganggu analisis dan menghasilkan\n",
        "model yang tidak akurat. Berikut adalah langkah-langkah yang bisa diambil untuk\n",
        "menangani data tidak valid:\n",
        "Identifikasi Data Tidak Valid\n",
        "1.   Pemeriksaan  Kesalahan:  Identifikasi  kesalahan  ketik  atau  entri  yang  tidak\n",
        "sesuai format yang diharapkan.\n",
        "2.   Pemeriksaan Batas Nilai: Pastikan nilai numerik berada dalam rentang yang\n",
        "wajar.\n",
        "3.   Pemeriksaan Konsistensi: Pastikan konsistensi antar kolom, misalnya tanggal\n",
        "mulai tidak boleh setelah tanggal berakhir.\n",
        "4.   Deteksi Anomali: Gunakan metode statistik atau algoritma untuk mendeteksi\n",
        "anomali dalam data."
      ],
      "metadata": {
        "id": "9BQQGl2ugc44"
      }
    },
    {
      "cell_type": "code",
      "source": [
        "# Penaganan Data Tidak Valid\n",
        "\n",
        "import pandas as pd\n",
        "import numpy as np\n",
        "\n",
        "data = {\n",
        "'Name': ['Alice', 'Bob', 'Charlie', 'Alice', 'Eve', np.nan],\n",
        "'Age': [25, 30, 35, 25, np.nan, 50],\n",
        "'City': ['New York', 'Los Angeles', 'Chicago', 'New York', 'Miami', 'Los Angeles']\n",
        "}\n",
        "df = pd.DataFrame(data)\n",
        "\n",
        "# Menghapus Data Tidak Valid: Jika jumlah data tidak valid kecil dan tidak signifikan, menghapusnya bisa menjadi solusi yang cepat dan mudah.\n",
        "df = df.dropna(subset=['Age', 'Name']) # Menghapus baris dengan nilai 'Age' atau 'Name' yang tidak valid\n",
        "# Mengganti dengan Nilai Lain:\n",
        "\n",
        "# Mengisi dengan Rata-rata/Median: Mengisi nilai yang hilang atau tidak valid dengan rata-rata atau median.\n",
        "df['Age'] = df['Age'].fillna(df['Age'].median())\n",
        "\n",
        "# Mengisi dengan Nilai Default: Mengisi dengan nilai default yang logis atau sesuai konteks.\n",
        "df['Name'] = df['Name'].fillna('Unknown')\n",
        "\n",
        "# Pembersihan dengan Logika Bisnis: Menggunakan aturan bisnis untuk memperbaiki data. Misalnya, jika usia tidak masuk akal (misalnya lebih dari 120 tahun), maka ubah atau hapus.\n",
        "df = df[(df['Age'] >= 0) & (df['Age'] <= 120)]"
      ],
      "metadata": {
        "id": "7RESHuaCggEG"
      },
      "execution_count": 33,
      "outputs": []
    },
    {
      "cell_type": "code",
      "source": [
        "#  Contoh Menangani Data Tidak Valid\n",
        "\n",
        "import pandas as pd\n",
        "import numpy as np\n",
        "\n",
        "data = {\n",
        "'Name': ['Alice', 'Bob', 'Charlie', 'Alice', 'Eve', np.nan],\n",
        "'Age': [25, 30, 35, 25, np.nan, 150],  # 150 dianggap sebagai nilai tidak valid\n",
        "'City': ['New York', 'Los Angeles', 'Chicago', 'New York', 'Miami', 'Los Angeles']\n",
        "}\n",
        "df = pd.DataFrame(data)\n",
        "\n",
        "# Identifikasi nilai tidak valid\n",
        "print(\"Data Awal:\")\n",
        "print(df)\n",
        "\n",
        "# Mengubah nilai 'Age' yang tidak valid menjadi NaN\n",
        "df['Age'] = pd.to_numeric(df['Age'], errors='coerce')\n",
        "\n",
        "# Mengisi nilai 'Age' yang hilang atau tidak valid dengan median\n",
        "df['Age'] = df['Age'].fillna(df['Age'].median())\n",
        "\n",
        "# Mengisi nilai 'Name' yang hilang dengan 'Unknown'\n",
        "df['Name'] = df['Name'].fillna('Unknown')\n",
        "\n",
        "print(\"\\nData Setelah Menangani Nilai Tidak Valid:\")\n",
        "print(df)\n"
      ],
      "metadata": {
        "colab": {
          "base_uri": "https://localhost:8080/"
        },
        "id": "S3PeqPdqglSR",
        "outputId": "b24a5ffb-ac4b-4696-a7a3-fad9881115fe"
      },
      "execution_count": 34,
      "outputs": [
        {
          "output_type": "stream",
          "name": "stdout",
          "text": [
            "Data Awal:\n",
            "      Name    Age         City\n",
            "0    Alice   25.0     New York\n",
            "1      Bob   30.0  Los Angeles\n",
            "2  Charlie   35.0      Chicago\n",
            "3    Alice   25.0     New York\n",
            "4      Eve    NaN        Miami\n",
            "5      NaN  150.0  Los Angeles\n",
            "\n",
            "Data Setelah Menangani Nilai Tidak Valid:\n",
            "      Name    Age         City\n",
            "0    Alice   25.0     New York\n",
            "1      Bob   30.0  Los Angeles\n",
            "2  Charlie   35.0      Chicago\n",
            "3    Alice   25.0     New York\n",
            "4      Eve   30.0        Miami\n",
            "5  Unknown  150.0  Los Angeles\n"
          ]
        }
      ]
    },
    {
      "cell_type": "markdown",
      "source": [
        "Dalam contoh ini, nilai usia yang tidak valid (150) diubah menjadi nilai median,\n",
        "dan nama yang hilang diisi dengan 'Unknown'. Langkah-langkah ini membantu\n",
        "memastikan bahwa data yang digunakan untuk analisis dan pemodelan lebih bersih\n",
        "dan dapat diandalkan."
      ],
      "metadata": {
        "id": "AKLp37jQhxBz"
      }
    },
    {
      "cell_type": "markdown",
      "source": [
        "# Data Normalization"
      ],
      "metadata": {
        "id": "di1QJdrdh2CL"
      }
    },
    {
      "cell_type": "markdown",
      "source": [
        "Data normalization adalah proses mengubah skala fitur dalam dataset sehingga\n",
        "mereka berada dalam rentang yang sama atau memiliki distribusi yang serupa.\n",
        "Normalisasi data penting untuk meningkatkan kinerja algoritma machine learning,\n",
        "terutama yang sensitif terhadap skala data seperti k-NN, regresi linier, dan neural\n",
        "networks. Mengapa Data Normalization Penting?\n",
        "\n",
        "1. Konsistensi Skala: Algoritma berbasis jarak seperti k-NN dan K-Means clustering\n",
        "sangat bergantung pada jarak antar titik data. Normalisasi memastikan bahwa\n",
        "semua fitur berkontribusi secara proporsional terhadap jarak tersebut.\n",
        "\n",
        "2.   Stabilitas Numerik: Model seperti regresi linier dan neural networks dapat\n",
        "mengalami masalah stabilitas numerik jika fitur memiliki skala yang sangat\n",
        "berbeda. Normalisasi membantu menghindari masalah ini dengan menjaga\n",
        "nilai fitur dalam rentang yang seragam.\n",
        "3. Kecepatan  Konvergensi:  Normalisasi  dapat  meningkatkan  kecepatan\n",
        "konvergensi algoritma pembelajaran seperti gradient descent dengan\n",
        "menghindari jalan yang curam di sepanjang satu dimensi dan datar di dimensi\n",
        "lainnya.\n",
        "\n",
        "Metode Normalisasi Data\n",
        "\n",
        "1.   Min-Max  Scaling:  Mengubah  data  sehingga  berada  dalam  rentang  tertentu,\n",
        "biasanya [0, 1].\n",
        "2.   Z-Score Normalization (Standardization): Mengubah data sehingga memiliki rata-\n",
        "rata 0 dan standar deviasi 1.\n",
        "\n",
        "di mana µµ adalah rata-rata dan σσ adalah standar deviasi.\n",
        "\n",
        "3.   Robust  Scaler:  Menggunakan  median  dan  IQR  (Interquartile  Range)  untuk\n",
        "mengurangi pengaruh outliers."
      ],
      "metadata": {
        "id": "KKt5dl8hiDOI"
      }
    },
    {
      "cell_type": "code",
      "source": [
        "# Contoh Normalisasi dengan Python\n",
        "import pandas as pd\n",
        "from sklearn.preprocessing import MinMaxScaler, StandardScaler\n",
        "\n",
        "# Contoh dataset\n",
        "data = {\n",
        "'Age': [25, 30, 35, 40, 45],\n",
        "'Salary': [50000, 60000, 70000, 80000, 90000]\n",
        "}\n",
        "df = pd.DataFrame(data)\n",
        "\n",
        "# Min-Max Scaling\n",
        "min_max_scaler = MinMaxScaler()\n",
        "df_min_max_scaled = pd.DataFrame(min_max_scaler.fit_transform(df),\n",
        "columns=df.columns)\n",
        "\n",
        "# Z-Score Normalization\n",
        "standard_scaler = StandardScaler()\n",
        "df_standard_scaled = pd.DataFrame(standard_scaler.fit_transform(df),\n",
        "columns=df.columns)\n",
        "\n",
        "print(\"Data Asli:\")\n",
        "print(df)\n",
        "\n",
        "\n",
        "print(\"\\nMin-Max Scaled Data:\")\n",
        "print(df_min_max_scaled)\n",
        "\n",
        "print(\"\\nStandardized Data:\")\n",
        "print(df_standard_scaled)"
      ],
      "metadata": {
        "colab": {
          "base_uri": "https://localhost:8080/"
        },
        "id": "vOVZBfEwiGQb",
        "outputId": "0cb0166a-60dc-4664-aa4d-72a507dbf134"
      },
      "execution_count": 35,
      "outputs": [
        {
          "output_type": "stream",
          "name": "stdout",
          "text": [
            "Data Asli:\n",
            "   Age  Salary\n",
            "0   25   50000\n",
            "1   30   60000\n",
            "2   35   70000\n",
            "3   40   80000\n",
            "4   45   90000\n",
            "\n",
            "Min-Max Scaled Data:\n",
            "    Age  Salary\n",
            "0  0.00    0.00\n",
            "1  0.25    0.25\n",
            "2  0.50    0.50\n",
            "3  0.75    0.75\n",
            "4  1.00    1.00\n",
            "\n",
            "Standardized Data:\n",
            "        Age    Salary\n",
            "0 -1.414214 -1.414214\n",
            "1 -0.707107 -0.707107\n",
            "2  0.000000  0.000000\n",
            "3  0.707107  0.707107\n",
            "4  1.414214  1.414214\n"
          ]
        }
      ]
    },
    {
      "cell_type": "markdown",
      "source": [
        "Dalam contoh ini, kita melihat bagaimana fitur Age dan Salary diubah\n",
        "menggunakan Min-Max Scaling dan Z-Score Normalization. Setelah normalisasi, data\n",
        "berada dalam rentang yang lebih seragam, yang membantu meningkatkan kinerja\n",
        "model machine learning."
      ],
      "metadata": {
        "id": "0uMzSM2Si4bF"
      }
    },
    {
      "cell_type": "markdown",
      "source": [
        "# 5.3 Validasi Model"
      ],
      "metadata": {
        "id": "2LkrNBGMjEZ8"
      }
    },
    {
      "cell_type": "markdown",
      "source": [
        "Validasi model adalah proses evaluasi model machine learning untuk memastikan\n",
        "bahwa model tersebut bekerja dengan baik dan dapat diandalkan ketika diaplikasikan\n",
        "pada data baru. Tujuan utama validasi model adalah untuk mengukur kinerja model,\n",
        "mencegah overfitting, dan memastikan generalisasi model. Berikut adalah penjelasan\n",
        "lebih lanjut tentang tujuan dan teknik validasi model. Tujuan Validasi Model:\n",
        "\n",
        "1. Mengukur Kinerja Model: Validasi model membantu mengukur seberapa baik\n",
        "model bekerja dalam hal akurasi, presisi, recall, F1-score, dan metrik lainnya.\n",
        "\n",
        "2. Mencegah Overfitting: Overfitting terjadi ketika model terlalu menyesuaikan\n",
        "diri dengan data pelatihan dan gagal menggeneralisasi pada data baru. Validasi\n",
        "model membantu mengidentifikasi dan mengurangi overfitting.\n",
        "\n",
        "3. Memastikan Generalisasi: Validasi memastikan bahwa model dapat bekerja\n",
        "dengan baik pada data yang tidak terlihat sebelumnya, yang sangat penting\n",
        "untuk aplikasi dunia nyata.\n",
        "\n",
        "4. Pemilihan Model: Membantu dalam pemilihan model terbaik dari beberapa\n",
        "model atau konfigurasi berdasarkan kinerja pada set validasi.\n",
        "\n",
        "5. Hyperparameter Tuning: Membantu dalam menyetel hyperparameter model\n",
        "untuk mendapatkan kinerja terbaik.\n",
        "\n",
        "Teknik Validasi Model\n",
        "1.   Holdout Validation: Dataset dibagi menjadi dua subset: satu untuk pelatihan\n",
        "(training set) dan satu lagi untuk pengujian (test set). Contoh: 70% data untuk\n",
        "pelatihan dan 30% data untuk pengujian. Kelemahan: Hasil bisa sangat\n",
        "bergantung pada cara data dibagi.\n",
        "\n",
        "2. K-Fold Cross-Validation: Dataset dibagi menjadi k subset (folds). Model dilatih\n",
        "k kali, setiap kali menggunakan k-1 folds untuk pelatihan dan 1 fold untuk\n",
        "pengujian. Contoh: 5-Fold Cross-Validation. Keuntungan: Lebih akurat dan\n",
        "stabil karena menggunakan seluruh dataset untuk pelatihan dan pengujian.\n",
        "\n",
        "3.  Stratified K-Fold Cross-Validation: Mirip dengan K-Fold, tetapi memastikan\n",
        "bahwa setiap fold memiliki proporsi yang sama dari kelas target, menjaga\n",
        "distribusi kelas yang konsisten di seluruh fold. Keuntungan: Berguna untuk\n",
        "dataset yang tidak seimbang.\n",
        "\n",
        "4. Leave-One-Out  Cross-Validation  (LOOCV):  Setiap  contoh  data  digunakan\n",
        "sekali sebagai set pengujian sementara sisanya digunakan sebagai set pelatihan.\n",
        "Keuntungan: Menggunakan semua data yang tersedia untuk pelatihan.\n",
        "Kelemahan: Sangat memakan waktu dan komputasi untuk dataset besar.\n",
        "\n",
        "5. Time  Series  Cross-Validation:  Digunakan  untuk  data  urutan  waktu.  Data\n",
        "dibagi berdasarkan urutan waktu, memastikan bahwa model hanya dilatih\n",
        "pada data dari masa lalu dan diuji pada data dari masa depan. Keuntungan:\n",
        "Menghormati urutan temporal dan cocok untuk data deret waktu.\n",
        "\n",
        "Contoh Implementasi K-Fold Cross-Validation di Python\n",
        "Berikut   adalah   contoh   bagaimana   mengimplementasikan   K-Fold   Cross-\n",
        "Validation menggunakan scikit-learn di Python:\n",
        "\n",
        "\n",
        "\n",
        "\n",
        "\n"
      ],
      "metadata": {
        "id": "WY7BEmZMjpBi"
      }
    },
    {
      "cell_type": "code",
      "source": [
        "from sklearn.model_selection import KFold, cross_val_score\n",
        "from sklearn.linear_model import LinearRegression\n",
        "import numpy as np\n",
        "# Contoh dataset\n",
        "X = np.array([[1, 2], [2, 3], [3, 4], [4, 5], [5, 6]])\n",
        "y = np.array([2, 3, 4, 5, 6])\n",
        "# Model\n",
        "model = LinearRegression()\n",
        "# K-Fold Cross-Validation\n",
        "kf = KFold(n_splits=5)\n",
        "scores = cross_val_score(model, X, y, cv=kf)\n",
        "\n",
        "print(\"K-Fold Cross-Validation Scores:\", scores)\n",
        "print(\"Mean Score:\", np.mean(scores))"
      ],
      "metadata": {
        "colab": {
          "base_uri": "https://localhost:8080/"
        },
        "id": "UcbriazwoO2g",
        "outputId": "78e6782d-83c4-4f74-ba80-6c5f6bfd9253"
      },
      "execution_count": 36,
      "outputs": [
        {
          "output_type": "stream",
          "name": "stdout",
          "text": [
            "K-Fold Cross-Validation Scores: [nan nan nan nan nan]\n",
            "Mean Score: nan\n"
          ]
        },
        {
          "output_type": "stream",
          "name": "stderr",
          "text": [
            "/usr/local/lib/python3.11/dist-packages/sklearn/metrics/_regression.py:1266: UndefinedMetricWarning: R^2 score is not well-defined with less than two samples.\n",
            "  warnings.warn(msg, UndefinedMetricWarning)\n",
            "/usr/local/lib/python3.11/dist-packages/sklearn/metrics/_regression.py:1266: UndefinedMetricWarning: R^2 score is not well-defined with less than two samples.\n",
            "  warnings.warn(msg, UndefinedMetricWarning)\n",
            "/usr/local/lib/python3.11/dist-packages/sklearn/metrics/_regression.py:1266: UndefinedMetricWarning: R^2 score is not well-defined with less than two samples.\n",
            "  warnings.warn(msg, UndefinedMetricWarning)\n",
            "/usr/local/lib/python3.11/dist-packages/sklearn/metrics/_regression.py:1266: UndefinedMetricWarning: R^2 score is not well-defined with less than two samples.\n",
            "  warnings.warn(msg, UndefinedMetricWarning)\n",
            "/usr/local/lib/python3.11/dist-packages/sklearn/metrics/_regression.py:1266: UndefinedMetricWarning: R^2 score is not well-defined with less than two samples.\n",
            "  warnings.warn(msg, UndefinedMetricWarning)\n"
          ]
        }
      ]
    }
  ]
}